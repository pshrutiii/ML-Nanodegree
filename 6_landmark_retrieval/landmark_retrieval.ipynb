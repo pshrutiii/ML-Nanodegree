{
 "cells": [
  {
   "cell_type": "markdown",
   "metadata": {},
   "source": [
    "# Google's Landmark Retrieval Challenge\n",
    "\n",
    "**Goal**: Given over a million images of 15K classes, you need to classify them correctly as they lack labels. Such that given a test image, it should be able to retrieve images that belong to similar class.\n",
    "\n",
    "[Kaggle Challenge](https://www.kaggle.com/c/landmark-retrieval-challenge)"
   ]
  },
  {
   "cell_type": "code",
   "execution_count": 1,
   "metadata": {
    "collapsed": false
   },
   "outputs": [
    {
     "name": "stderr",
     "output_type": "stream",
     "text": [
      "C:\\Python36\\lib\\site-packages\\h5py\\__init__.py:36: FutureWarning: Conversion of the second argument of issubdtype from `float` to `np.floating` is deprecated. In future, it will be treated as `np.float64 == np.dtype(float).type`.\n",
      "  from ._conv import register_converters as _register_converters\n",
      "Using TensorFlow backend.\n"
     ]
    }
   ],
   "source": [
    "import pandas as pd\n",
    "import urllib\n",
    "import shutil\n",
    "import cv2\n",
    "import os\n",
    "import numpy as np\n",
    "from keras.preprocessing import image     "
   ]
  },
  {
   "cell_type": "code",
   "execution_count": 2,
   "metadata": {
    "collapsed": false
   },
   "outputs": [],
   "source": [
    "#STEP #1: Download images\n",
    "train_data = pd.read_csv(\"index.csv\")\n",
    "test_data = pd.read_csv(\"test.csv\")\n",
    "\n",
    "#print(\"Shape of training set = \", train_data.shape)\n",
    "#print(\"Shape of testing set = \", test_data.shape)\n",
    "\n",
    "def download_images(outputpath):\n",
    "    if not os.path.isdir(outputpath):\n",
    "        os.makedirs(outputpath, exist_ok=True)\n",
    "    \n",
    "    count = 0\n",
    "    for index, row in train_data.iterrows():\n",
    "        img_id = row['id']\n",
    "        img_url = row['url']\n",
    "        img_title = outputpath + '/' +img_id + '.JPG'\n",
    "        if index < 20:\n",
    "            try:\n",
    "                urllib.request.urlretrieve(img_url,img_title) # saves local copy of images\n",
    "                count += 1\n",
    "            except:\n",
    "                print(img_id + \"<-- couldn't retrieve IMAGE for this id!!\")\n",
    "        else:\n",
    "            print(\"Downloaded ==> \" + str(count) + \" files!\") \n",
    "            return"
   ]
  },
  {
   "cell_type": "code",
   "execution_count": 3,
   "metadata": {
    "collapsed": false
   },
   "outputs": [],
   "source": [
    "#download_images( 'train')\n",
    "#download_images('test')"
   ]
  },
  {
   "cell_type": "code",
   "execution_count": 4,
   "metadata": {
    "collapsed": false
   },
   "outputs": [
    {
     "name": "stdout",
     "output_type": "stream",
     "text": [
      "Training set:  (15, 224, 224, 3)\n",
      "Validation set:  (5, 224, 224, 3)\n",
      "Testing set:  (20, 224, 224, 3)\n"
     ]
    }
   ],
   "source": [
    "def load_dataset(inputpath):\n",
    "    list_of_tensors = []\n",
    "    for dirpath, dirnames, filenames in os.walk(inputpath):\n",
    "        #print(\"Files in this '\" + inputpath + \"' dir is \" + str(len(filenames)))\n",
    "        for filename in filenames:\n",
    "            img_path = os.path.join(dirpath,filename)\n",
    "            img = image.load_img(img_path, target_size=(224, 224)) #rescaling images to 224x224\n",
    "            x = image.img_to_array(img)\n",
    "            list_of_tensors.append(np.expand_dims(x, axis=0))\n",
    "    return np.vstack(list_of_tensors)\n",
    "\n",
    "train_tensors = load_dataset('train').astype('float32')/255 # rescale to [0,1] instead of [0,255] for each pixel\n",
    "test_tensors = load_dataset('test').astype('float32')/255\n",
    "\n",
    "#Train and validation split\n",
    "(train_tensors, valid_tensors) = train_tensors[5:], train_tensors[:5]\n",
    "\n",
    "print(\"Training set: \", train_tensors.shape)\n",
    "print(\"Validation set: \", valid_tensors.shape)\n",
    "print(\"Testing set: \", test_tensors.shape)"
   ]
  },
  {
   "cell_type": "code",
   "execution_count": 5,
   "metadata": {
    "collapsed": false
   },
   "outputs": [],
   "source": [
    "# get feature set from ImageNet using Keras model - VGG16\n",
    "from keras import applications\n",
    "model = applications.vgg16.VGG16(include_top=False, weights='imagenet', pooling='avg')\n",
    "\n",
    "# extract the features\n",
    "train_targets = model.predict(train_tensors)#[0]\n",
    "valid_targets = model.predict(valid_tensors)#[0]\n",
    "\n",
    "# convert from Numpy to a list of values\n",
    "train_targets_arr = np.char.mod('%f', train_targets)\n",
    "valid_targets_arr = np.char.mod('%f', valid_targets)\n",
    "#features_dict = {\"id\": metadata['id'], \"features\": ','.join(features_arr)}"
   ]
  },
  {
   "cell_type": "code",
   "execution_count": 6,
   "metadata": {
    "collapsed": false
   },
   "outputs": [
    {
     "name": "stdout",
     "output_type": "stream",
     "text": [
      "(15, 512)\n",
      "(5, 512)\n",
      "512\n"
     ]
    }
   ],
   "source": [
    "print(train_targets_arr.shape)\n",
    "print(valid_targets_arr.shape)\n",
    "print(train_targets_arr.shape[1])"
   ]
  },
  {
   "cell_type": "code",
   "execution_count": 7,
   "metadata": {
    "collapsed": false
   },
   "outputs": [
    {
     "name": "stdout",
     "output_type": "stream",
     "text": [
      "_________________________________________________________________\n",
      "Layer (type)                 Output Shape              Param #   \n",
      "=================================================================\n",
      "conv2d_1 (Conv2D)            (None, 224, 224, 16)      208       \n",
      "_________________________________________________________________\n",
      "max_pooling2d_1 (MaxPooling2 (None, 112, 112, 16)      0         \n",
      "_________________________________________________________________\n",
      "conv2d_2 (Conv2D)            (None, 112, 112, 32)      2080      \n",
      "_________________________________________________________________\n",
      "max_pooling2d_2 (MaxPooling2 (None, 56, 56, 32)        0         \n",
      "_________________________________________________________________\n",
      "conv2d_3 (Conv2D)            (None, 56, 56, 64)        8256      \n",
      "_________________________________________________________________\n",
      "max_pooling2d_3 (MaxPooling2 (None, 28, 28, 64)        0         \n",
      "_________________________________________________________________\n",
      "dropout_1 (Dropout)          (None, 28, 28, 64)        0         \n",
      "_________________________________________________________________\n",
      "flatten_1 (Flatten)          (None, 50176)             0         \n",
      "_________________________________________________________________\n",
      "dense_1 (Dense)              (None, 500)               25088500  \n",
      "_________________________________________________________________\n",
      "dropout_2 (Dropout)          (None, 500)               0         \n",
      "_________________________________________________________________\n",
      "dense_2 (Dense)              (None, 512)               256512    \n",
      "=================================================================\n",
      "Total params: 25,355,556\n",
      "Trainable params: 25,355,556\n",
      "Non-trainable params: 0\n",
      "_________________________________________________________________\n"
     ]
    }
   ],
   "source": [
    "#Implementing basic CNN from scratch\n",
    "from keras.layers import Conv2D, MaxPooling2D, GlobalAveragePooling2D\n",
    "from keras.layers import Dropout, Flatten, Dense\n",
    "from keras.models import Sequential\n",
    "\n",
    "numOfLabels = (train_targets_arr.shape[1]) # based on the dataset description  --- NOT TOO SURE HERE!!! I thought 15K should be the value\n",
    "\n",
    "cnn = Sequential()\n",
    "cnn.add(Conv2D(filters=16, kernel_size=2, padding='same', activation='relu', input_shape=(224,224,3)))\n",
    "cnn.add(MaxPooling2D(pool_size=2))\n",
    "cnn.add(Conv2D(filters=32, kernel_size=2, padding='same', activation='relu'))\n",
    "cnn.add(MaxPooling2D(pool_size=2))\n",
    "cnn.add(Conv2D(filters=64, kernel_size=2, padding='same', activation='relu'))\n",
    "cnn.add(MaxPooling2D(pool_size=2))\n",
    "cnn.add(Dropout(0.3))\n",
    "cnn.add(Flatten())\n",
    "cnn.add(Dense(500, activation='relu'))\n",
    "cnn.add(Dropout(0.4))\n",
    "cnn.add(Dense(numOfLabels, activation='softmax'))\n",
    "\n",
    "cnn.summary()"
   ]
  },
  {
   "cell_type": "code",
   "execution_count": 8,
   "metadata": {
    "collapsed": false
   },
   "outputs": [],
   "source": [
    "cnn.compile(optimizer='rmsprop', loss='categorical_crossentropy', metrics=['accuracy'])"
   ]
  },
  {
   "cell_type": "code",
   "execution_count": 9,
   "metadata": {
    "collapsed": false
   },
   "outputs": [
    {
     "name": "stdout",
     "output_type": "stream",
     "text": [
      "Train on 15 samples, validate on 5 samples\n",
      "Epoch 1/1\n",
      "14/15 [===========================>..] - ETA: 0s - loss: 944.0118 - acc: 0.8571     \b\b\b\b\b\b\b\b\b\b\b\b\b\b\b\b\b\b\b\b\b\b\b\b\b\b\b\b\b\b\b\b\b\b\b\b\b\b\b\b\b\b\b\b\b\b\b\b\b\b\b\b\b\b\b\b\b\b\b\b\b\b\b\b\b\b\b\b\b\b\b\b\b\b\b\b\b\b\b\b\b\b\b\b\b\b\b\b\b\b\b\b\b\b\b\b\b\b\b\b\b\b\b\b\b\b\b\b\b\b\b\b\b\b\b\b\b\b\b\b\b\b\b\b\b\b\b\b\b\b\b\b\b\b\b\b\b\b\b\b\b\b\b\b\b\b\b\b\b\b\b\b\b\b\b\b\b\b\b\b\b\b\b\b\b\b\b\b\b\b\b\b\b\b\b\b\b\b\b\b\b\b\b\b\b\b\b\b\b\b\b\b\b\b\b\b\b\b\b\b\b\b\b\b\b\b\b\b\b\b\b\b\b\b\b\b\b\b\b\b\b\b\b\b\b\b\b\b\b\b\b\b\b\b\b\b\b\b\b\b\b\b\b\b\b\b\b\b\b\b\b\b\b\b\b\b\b\b\b\b\b\b\b\b\b\b\b\b\b\b\b\b\b\b\b\b\b\b\b\b\b\b\b\b\b\b\b\b\b\b\b\b\b\b\b\b\b\b\b\b\b\b\b\b\b\b\b\b\b\b\b\b\b\b\b\b\b\b\b\b\b\b\b\b\b\b\b\b\b\b\b\b\b\b\b\b\b\b\b\b\b\b\b\b\b\b\b\b\b\b\b\b\b\b\b\b\b\b\b\b\b\b\b\b\b\b\b\b\b\b\b\b\b\b\b\b\b\b\b\b\b\b\b\b\b\b\b\b\b\b\b\b\b\b\b\b\b\b\b\b\b\b\b\b\b\b\b\b\b\b\b\b\b\b\b\b\b\b\b\b\b\b\b\b\b\b\b\b\b\b\b\b\b\b\b\b\b\b\b\b\b\b\b\b\b\b\b\b\b\b\b\b\b\b\b\b\b\b\b\b\b\b\b\b\b\b\b\b\b\b\b\b\b\b\b\b\b\b\b\n",
      "Epoch 00001: val_loss improved from inf to 1090.56959, saving model to weights.best.from_scratch.hdf5\n",
      "15/15 [==============================] - 8s 504ms/step - loss: 947.3920 - acc: 0.8667 - val_loss: 1090.5696 - val_acc: 1.0000\n"
     ]
    },
    {
     "data": {
      "text/plain": [
       "<keras.callbacks.History at 0x1278cac8>"
      ]
     },
     "execution_count": 9,
     "metadata": {},
     "output_type": "execute_result"
    }
   ],
   "source": [
    "# Step 7: Train the model\n",
    "from keras.callbacks import ModelCheckpoint\n",
    "checkpointer = ModelCheckpoint(filepath='weights.best.from_scratch.hdf5', verbose=1, save_best_only=True)\n",
    "\n",
    "cnn.fit(train_tensors, train_targets_arr, validation_data=(valid_tensors, valid_targets_arr), epochs=1, batch_size=2, callbacks=[checkpointer], verbose=1)\n"
   ]
  },
  {
   "cell_type": "code",
   "execution_count": 10,
   "metadata": {
    "collapsed": false
   },
   "outputs": [],
   "source": [
    "# load the weights that yielded the best validation accuracy\n",
    "cnn.load_weights('weights.best.from_scratch.hdf5')"
   ]
  },
  {
   "cell_type": "code",
   "execution_count": null,
   "metadata": {
    "collapsed": false
   },
   "outputs": [],
   "source": [
    "# Step 8: Calculate accuracy\n",
    "score = model.evaluate(X_test, y_test, verbose=0)\n",
    "accuracy = score[1] *100\n",
    "\n",
    "print(\"Test accuracy = \", accuracy, \"%\")"
   ]
  }
 ],
 "metadata": {
  "kernelspec": {
   "display_name": "Python 3",
   "language": "python",
   "name": "python3"
  },
  "language_info": {
   "codemirror_mode": {
    "name": "ipython",
    "version": 3
   },
   "file_extension": ".py",
   "mimetype": "text/x-python",
   "name": "python",
   "nbconvert_exporter": "python",
   "pygments_lexer": "ipython3",
   "version": "3.6.4"
  }
 },
 "nbformat": 4,
 "nbformat_minor": 2
}
